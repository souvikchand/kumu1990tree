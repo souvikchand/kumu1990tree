{
  "cells": [
    {
      "cell_type": "code",
      "execution_count": 1,
      "metadata": {
        "id": "1yuqN2O0qKoW"
      },
      "outputs": [],
      "source": [
        "import numpy as np\n",
        "import pandas as pd"
      ]
    },
    {
      "cell_type": "code",
      "execution_count": null,
      "metadata": {},
      "outputs": [],
      "source": []
    },
    {
      "cell_type": "code",
      "execution_count": 3,
      "metadata": {
        "colab": {
          "base_uri": "https://localhost:8080/"
        },
        "id": "fk667eSoqM88",
        "outputId": "966b8901-1de5-4f45-89a8-554ba5fdcdea"
      },
      "outputs": [
        {
          "name": "stdout",
          "output_type": "stream",
          "text": [
            "Collecting scikit-network==0.24.0\n",
            "  Downloading scikit-network-0.24.0.tar.gz (1.7 MB)\n",
            "                                              0.0/1.7 MB ? eta -:--:--\n",
            "                                              0.0/1.7 MB ? eta -:--:--\n",
            "                                              0.0/1.7 MB ? eta -:--:--\n",
            "                                              0.0/1.7 MB ? eta -:--:--\n",
            "                                              0.0/1.7 MB ? eta -:--:--\n",
            "                                              0.0/1.7 MB ? eta -:--:--\n",
            "                                              0.0/1.7 MB ? eta -:--:--\n",
            "     --                                       0.1/1.7 MB 344.8 kB/s eta 0:00:05\n",
            "     --                                       0.1/1.7 MB 344.8 kB/s eta 0:00:05\n",
            "     --                                       0.1/1.7 MB 288.8 kB/s eta 0:00:06\n",
            "     --                                       0.1/1.7 MB 288.8 kB/s eta 0:00:06\n",
            "     --                                       0.1/1.7 MB 288.8 kB/s eta 0:00:06\n",
            "     ----                                     0.2/1.7 MB 368.6 kB/s eta 0:00:05\n",
            "     ----                                     0.2/1.7 MB 368.6 kB/s eta 0:00:05\n",
            "     ------                                   0.3/1.7 MB 437.2 kB/s eta 0:00:04\n",
            "     ------                                   0.3/1.7 MB 437.2 kB/s eta 0:00:04\n",
            "     ------                                   0.3/1.7 MB 437.2 kB/s eta 0:00:04\n",
            "     ------                                   0.3/1.7 MB 437.2 kB/s eta 0:00:04\n",
            "     -------                                  0.3/1.7 MB 411.1 kB/s eta 0:00:04\n",
            "     -------                                  0.3/1.7 MB 411.1 kB/s eta 0:00:04\n",
            "     -------                                  0.3/1.7 MB 411.1 kB/s eta 0:00:04\n",
            "     --------                                 0.4/1.7 MB 377.6 kB/s eta 0:00:04\n",
            "     --------                                 0.4/1.7 MB 377.6 kB/s eta 0:00:04\n",
            "     ---------                                0.4/1.7 MB 383.4 kB/s eta 0:00:04\n",
            "     ---------                                0.4/1.7 MB 383.4 kB/s eta 0:00:04\n",
            "     ---------                                0.4/1.7 MB 383.4 kB/s eta 0:00:04\n",
            "     ----------                               0.5/1.7 MB 397.0 kB/s eta 0:00:04\n",
            "     ----------                               0.5/1.7 MB 397.0 kB/s eta 0:00:04\n",
            "     -----------                              0.5/1.7 MB 411.6 kB/s eta 0:00:03\n",
            "     -----------                              0.5/1.7 MB 411.6 kB/s eta 0:00:03\n",
            "     ------------                             0.5/1.7 MB 393.3 kB/s eta 0:00:04\n",
            "     ------------                             0.6/1.7 MB 416.4 kB/s eta 0:00:03\n",
            "     --------------                           0.6/1.7 MB 424.9 kB/s eta 0:00:03\n",
            "     --------------                           0.6/1.7 MB 427.6 kB/s eta 0:00:03\n",
            "     --------------                           0.6/1.7 MB 427.6 kB/s eta 0:00:03\n",
            "     ---------------                          0.7/1.7 MB 441.4 kB/s eta 0:00:03\n",
            "     ---------------                          0.7/1.7 MB 441.4 kB/s eta 0:00:03\n",
            "     -----------------                        0.8/1.7 MB 462.0 kB/s eta 0:00:03\n",
            "     -----------------                        0.8/1.7 MB 462.0 kB/s eta 0:00:03\n",
            "     -------------------                      0.8/1.7 MB 472.4 kB/s eta 0:00:02\n",
            "     -------------------                      0.8/1.7 MB 472.4 kB/s eta 0:00:02\n",
            "     --------------------                     0.9/1.7 MB 488.7 kB/s eta 0:00:02\n",
            "     ---------------------                    1.0/1.7 MB 494.3 kB/s eta 0:00:02\n",
            "     ----------------------                   1.0/1.7 MB 507.5 kB/s eta 0:00:02\n",
            "     ------------------------                 1.1/1.7 MB 532.5 kB/s eta 0:00:02\n",
            "     -------------------------                1.1/1.7 MB 549.6 kB/s eta 0:00:02\n",
            "     ---------------------------              1.2/1.7 MB 566.7 kB/s eta 0:00:01\n",
            "     ----------------------------             1.2/1.7 MB 578.3 kB/s eta 0:00:01\n",
            "     ------------------------------           1.3/1.7 MB 603.5 kB/s eta 0:00:01\n",
            "     -------------------------------          1.4/1.7 MB 609.1 kB/s eta 0:00:01\n",
            "     ---------------------------------        1.4/1.7 MB 632.9 kB/s eta 0:00:01\n",
            "     ---------------------------------        1.5/1.7 MB 633.4 kB/s eta 0:00:01\n",
            "     -----------------------------------      1.5/1.7 MB 646.8 kB/s eta 0:00:01\n",
            "     -------------------------------------    1.6/1.7 MB 663.9 kB/s eta 0:00:01\n",
            "     -------------------------------------    1.6/1.7 MB 663.8 kB/s eta 0:00:01\n",
            "     ---------------------------------------  1.7/1.7 MB 680.2 kB/s eta 0:00:01\n",
            "     ---------------------------------------- 1.7/1.7 MB 682.4 kB/s eta 0:00:00\n",
            "  Preparing metadata (setup.py): started\n",
            "  Preparing metadata (setup.py): finished with status 'error'\n"
          ]
        },
        {
          "name": "stderr",
          "output_type": "stream",
          "text": [
            "  error: subprocess-exited-with-error\n",
            "  \n",
            "  × python setup.py egg_info did not run successfully.\n",
            "  │ exit code: 1\n",
            "  ╰─> [243 lines of output]\n",
            "        error: subprocess-exited-with-error\n",
            "      \n",
            "        Ã— Preparing metadata (pyproject.toml) did not run successfully.\n",
            "        â”‚ exit code: 1\n",
            "        â•°â”€> [201 lines of output]\n",
            "            setup.py:66: RuntimeWarning: NumPy 1.20.0 may not yet support Python 3.10.\n",
            "              warnings.warn(\n",
            "            Running from numpy source directory.\n",
            "            setup.py:485: UserWarning: Unrecognized setuptools command, proceeding with generating Cython sources and expanding templates\n",
            "              run_build = parse_setuppy_commands()\n",
            "            Cythonizing sources\n",
            "            Processing numpy/random\\_bounded_integers.pxd.in\n",
            "            Processing numpy/random\\bit_generator.pyx\n",
            "            C:\\Users\\Souvik Chand\\AppData\\Local\\Temp\\pip-wheel-0l832mcc\\numpy_827e9a77376b4cb397fa3108ab018f32\\tools\\cythonize.py:67: DeprecationWarning: The distutils package is deprecated and slated for removal in Python 3.12. Use setuptools or check PEP 632 for potential alternatives\n",
            "              from distutils.version import LooseVersion\n",
            "            Processing numpy/random\\mtrand.pyx\n",
            "            Processing numpy/random\\_bounded_integers.pyx.in\n",
            "            Processing numpy/random\\_common.pyx\n",
            "            Processing numpy/random\\_generator.pyx\n",
            "            Processing numpy/random\\_mt19937.pyx\n",
            "            Processing numpy/random\\_pcg64.pyx\n",
            "            Processing numpy/random\\_philox.pyx\n",
            "            Processing numpy/random\\_sfc64.pyx\n",
            "            blas_opt_info:\n",
            "            blas_mkl_info:\n",
            "            No module named 'numpy.distutils._msvccompiler' in numpy.distutils; trying from distutils\n",
            "            customize MSVCCompiler\n",
            "              libraries mkl_rt not found in ['C:\\\\Users\\\\Souvik Chand\\\\AppData\\\\Local\\\\Programs\\\\Python\\\\Python310\\\\lib', 'C:\\\\', 'C:\\\\Users\\\\Souvik Chand\\\\AppData\\\\Local\\\\Programs\\\\Python\\\\Python310\\\\libs']\n",
            "              NOT AVAILABLE\n",
            "      \n",
            "            blis_info:\n",
            "              libraries blis not found in ['C:\\\\Users\\\\Souvik Chand\\\\AppData\\\\Local\\\\Programs\\\\Python\\\\Python310\\\\lib', 'C:\\\\', 'C:\\\\Users\\\\Souvik Chand\\\\AppData\\\\Local\\\\Programs\\\\Python\\\\Python310\\\\libs']\n",
            "              NOT AVAILABLE\n",
            "      \n",
            "            openblas_info:\n",
            "              libraries openblas not found in ['C:\\\\Users\\\\Souvik Chand\\\\AppData\\\\Local\\\\Programs\\\\Python\\\\Python310\\\\lib', 'C:\\\\', 'C:\\\\Users\\\\Souvik Chand\\\\AppData\\\\Local\\\\Programs\\\\Python\\\\Python310\\\\libs']\n",
            "            get_default_fcompiler: matching types: '['gnu', 'intelv', 'absoft', 'compaqv', 'intelev', 'gnu95', 'g95', 'intelvem', 'intelem', 'flang']'\n",
            "            customize GnuFCompiler\n",
            "            Could not locate executable g77\n",
            "            Could not locate executable f77\n",
            "            customize IntelVisualFCompiler\n",
            "            Could not locate executable ifort\n",
            "            Could not locate executable ifl\n",
            "            customize AbsoftFCompiler\n",
            "            Could not locate executable f90\n",
            "            customize CompaqVisualFCompiler\n",
            "            Could not locate executable DF\n",
            "            customize IntelItaniumVisualFCompiler\n",
            "            Could not locate executable efl\n",
            "            customize Gnu95FCompiler\n",
            "            Could not locate executable gfortran\n",
            "            Could not locate executable f95\n",
            "            customize G95FCompiler\n",
            "            Could not locate executable g95\n",
            "            customize IntelEM64VisualFCompiler\n",
            "            customize IntelEM64TFCompiler\n",
            "            Could not locate executable efort\n",
            "            Could not locate executable efc\n",
            "            customize PGroupFlangCompiler\n",
            "            Could not locate executable flang\n",
            "            don't know how to compile Fortran code on platform 'nt'\n",
            "              NOT AVAILABLE\n",
            "      \n",
            "            atlas_3_10_blas_threads_info:\n",
            "            Setting PTATLAS=ATLAS\n",
            "              libraries tatlas not found in ['C:\\\\Users\\\\Souvik Chand\\\\AppData\\\\Local\\\\Programs\\\\Python\\\\Python310\\\\lib', 'C:\\\\', 'C:\\\\Users\\\\Souvik Chand\\\\AppData\\\\Local\\\\Programs\\\\Python\\\\Python310\\\\libs']\n",
            "              NOT AVAILABLE\n",
            "      \n",
            "            atlas_3_10_blas_info:\n",
            "              libraries satlas not found in ['C:\\\\Users\\\\Souvik Chand\\\\AppData\\\\Local\\\\Programs\\\\Python\\\\Python310\\\\lib', 'C:\\\\', 'C:\\\\Users\\\\Souvik Chand\\\\AppData\\\\Local\\\\Programs\\\\Python\\\\Python310\\\\libs']\n",
            "              NOT AVAILABLE\n",
            "      \n",
            "            atlas_blas_threads_info:\n",
            "            Setting PTATLAS=ATLAS\n",
            "              libraries ptf77blas,ptcblas,atlas not found in ['C:\\\\Users\\\\Souvik Chand\\\\AppData\\\\Local\\\\Programs\\\\Python\\\\Python310\\\\lib', 'C:\\\\', 'C:\\\\Users\\\\Souvik Chand\\\\AppData\\\\Local\\\\Programs\\\\Python\\\\Python310\\\\libs']\n",
            "              NOT AVAILABLE\n",
            "      \n",
            "            atlas_blas_info:\n",
            "              libraries f77blas,cblas,atlas not found in ['C:\\\\Users\\\\Souvik Chand\\\\AppData\\\\Local\\\\Programs\\\\Python\\\\Python310\\\\lib', 'C:\\\\', 'C:\\\\Users\\\\Souvik Chand\\\\AppData\\\\Local\\\\Programs\\\\Python\\\\Python310\\\\libs']\n",
            "              NOT AVAILABLE\n",
            "      \n",
            "            C:\\Users\\Souvik Chand\\AppData\\Local\\Temp\\pip-wheel-0l832mcc\\numpy_827e9a77376b4cb397fa3108ab018f32\\numpy\\distutils\\system_info.py:1989: UserWarning:\n",
            "                Optimized (vendor) Blas libraries are not found.\n",
            "                Falls back to netlib Blas library which has worse performance.\n",
            "                A better performance should be easily gained by switching\n",
            "                Blas library.\n",
            "              if self._calc_info(blas):\n",
            "            blas_info:\n",
            "              libraries blas not found in ['C:\\\\Users\\\\Souvik Chand\\\\AppData\\\\Local\\\\Programs\\\\Python\\\\Python310\\\\lib', 'C:\\\\', 'C:\\\\Users\\\\Souvik Chand\\\\AppData\\\\Local\\\\Programs\\\\Python\\\\Python310\\\\libs']\n",
            "              NOT AVAILABLE\n",
            "      \n",
            "            C:\\Users\\Souvik Chand\\AppData\\Local\\Temp\\pip-wheel-0l832mcc\\numpy_827e9a77376b4cb397fa3108ab018f32\\numpy\\distutils\\system_info.py:1989: UserWarning:\n",
            "                Blas (http://www.netlib.org/blas/) libraries not found.\n",
            "                Directories to search for the libraries can be specified in the\n",
            "                numpy/distutils/site.cfg file (section [blas]) or by setting\n",
            "                the BLAS environment variable.\n",
            "              if self._calc_info(blas):\n",
            "            blas_src_info:\n",
            "              NOT AVAILABLE\n",
            "      \n",
            "            C:\\Users\\Souvik Chand\\AppData\\Local\\Temp\\pip-wheel-0l832mcc\\numpy_827e9a77376b4cb397fa3108ab018f32\\numpy\\distutils\\system_info.py:1989: UserWarning:\n",
            "                Blas (http://www.netlib.org/blas/) sources not found.\n",
            "                Directories to search for the sources can be specified in the\n",
            "                numpy/distutils/site.cfg file (section [blas_src]) or by setting\n",
            "                the BLAS_SRC environment variable.\n",
            "              if self._calc_info(blas):\n",
            "              NOT AVAILABLE\n",
            "      \n",
            "            non-existing path in 'numpy\\\\distutils': 'site.cfg'\n",
            "            lapack_opt_info:\n",
            "            lapack_mkl_info:\n",
            "              libraries mkl_rt not found in ['C:\\\\Users\\\\Souvik Chand\\\\AppData\\\\Local\\\\Programs\\\\Python\\\\Python310\\\\lib', 'C:\\\\', 'C:\\\\Users\\\\Souvik Chand\\\\AppData\\\\Local\\\\Programs\\\\Python\\\\Python310\\\\libs']\n",
            "              NOT AVAILABLE\n",
            "      \n",
            "            openblas_lapack_info:\n",
            "              libraries openblas not found in ['C:\\\\Users\\\\Souvik Chand\\\\AppData\\\\Local\\\\Programs\\\\Python\\\\Python310\\\\lib', 'C:\\\\', 'C:\\\\Users\\\\Souvik Chand\\\\AppData\\\\Local\\\\Programs\\\\Python\\\\Python310\\\\libs']\n",
            "              NOT AVAILABLE\n",
            "      \n",
            "            openblas_clapack_info:\n",
            "              libraries openblas,lapack not found in ['C:\\\\Users\\\\Souvik Chand\\\\AppData\\\\Local\\\\Programs\\\\Python\\\\Python310\\\\lib', 'C:\\\\', 'C:\\\\Users\\\\Souvik Chand\\\\AppData\\\\Local\\\\Programs\\\\Python\\\\Python310\\\\libs']\n",
            "              NOT AVAILABLE\n",
            "      \n",
            "            flame_info:\n",
            "              libraries flame not found in ['C:\\\\Users\\\\Souvik Chand\\\\AppData\\\\Local\\\\Programs\\\\Python\\\\Python310\\\\lib', 'C:\\\\', 'C:\\\\Users\\\\Souvik Chand\\\\AppData\\\\Local\\\\Programs\\\\Python\\\\Python310\\\\libs']\n",
            "              NOT AVAILABLE\n",
            "      \n",
            "            atlas_3_10_threads_info:\n",
            "            Setting PTATLAS=ATLAS\n",
            "              libraries lapack_atlas not found in C:\\Users\\Souvik Chand\\AppData\\Local\\Programs\\Python\\Python310\\lib\n",
            "              libraries tatlas,tatlas not found in C:\\Users\\Souvik Chand\\AppData\\Local\\Programs\\Python\\Python310\\lib\n",
            "              libraries lapack_atlas not found in C:\\\n",
            "              libraries tatlas,tatlas not found in C:\\\n",
            "              libraries lapack_atlas not found in C:\\Users\\Souvik Chand\\AppData\\Local\\Programs\\Python\\Python310\\libs\n",
            "              libraries tatlas,tatlas not found in C:\\Users\\Souvik Chand\\AppData\\Local\\Programs\\Python\\Python310\\libs\n",
            "            <class 'numpy.distutils.system_info.atlas_3_10_threads_info'>\n",
            "              NOT AVAILABLE\n",
            "      \n",
            "            atlas_3_10_info:\n",
            "              libraries lapack_atlas not found in C:\\Users\\Souvik Chand\\AppData\\Local\\Programs\\Python\\Python310\\lib\n",
            "              libraries satlas,satlas not found in C:\\Users\\Souvik Chand\\AppData\\Local\\Programs\\Python\\Python310\\lib\n",
            "              libraries lapack_atlas not found in C:\\\n",
            "              libraries satlas,satlas not found in C:\\\n",
            "              libraries lapack_atlas not found in C:\\Users\\Souvik Chand\\AppData\\Local\\Programs\\Python\\Python310\\libs\n",
            "              libraries satlas,satlas not found in C:\\Users\\Souvik Chand\\AppData\\Local\\Programs\\Python\\Python310\\libs\n",
            "            <class 'numpy.distutils.system_info.atlas_3_10_info'>\n",
            "              NOT AVAILABLE\n",
            "      \n",
            "            atlas_threads_info:\n",
            "            Setting PTATLAS=ATLAS\n",
            "              libraries lapack_atlas not found in C:\\Users\\Souvik Chand\\AppData\\Local\\Programs\\Python\\Python310\\lib\n",
            "              libraries ptf77blas,ptcblas,atlas not found in C:\\Users\\Souvik Chand\\AppData\\Local\\Programs\\Python\\Python310\\lib\n",
            "              libraries lapack_atlas not found in C:\\\n",
            "              libraries ptf77blas,ptcblas,atlas not found in C:\\\n",
            "              libraries lapack_atlas not found in C:\\Users\\Souvik Chand\\AppData\\Local\\Programs\\Python\\Python310\\libs\n",
            "              libraries ptf77blas,ptcblas,atlas not found in C:\\Users\\Souvik Chand\\AppData\\Local\\Programs\\Python\\Python310\\libs\n",
            "            <class 'numpy.distutils.system_info.atlas_threads_info'>\n",
            "              NOT AVAILABLE\n",
            "      \n",
            "            atlas_info:\n",
            "              libraries lapack_atlas not found in C:\\Users\\Souvik Chand\\AppData\\Local\\Programs\\Python\\Python310\\lib\n",
            "              libraries f77blas,cblas,atlas not found in C:\\Users\\Souvik Chand\\AppData\\Local\\Programs\\Python\\Python310\\lib\n",
            "              libraries lapack_atlas not found in C:\\\n",
            "              libraries f77blas,cblas,atlas not found in C:\\\n",
            "              libraries lapack_atlas not found in C:\\Users\\Souvik Chand\\AppData\\Local\\Programs\\Python\\Python310\\libs\n",
            "              libraries f77blas,cblas,atlas not found in C:\\Users\\Souvik Chand\\AppData\\Local\\Programs\\Python\\Python310\\libs\n",
            "            <class 'numpy.distutils.system_info.atlas_info'>\n",
            "              NOT AVAILABLE\n",
            "      \n",
            "            lapack_info:\n",
            "              libraries lapack not found in ['C:\\\\Users\\\\Souvik Chand\\\\AppData\\\\Local\\\\Programs\\\\Python\\\\Python310\\\\lib', 'C:\\\\', 'C:\\\\Users\\\\Souvik Chand\\\\AppData\\\\Local\\\\Programs\\\\Python\\\\Python310\\\\libs']\n",
            "              NOT AVAILABLE\n",
            "      \n",
            "            C:\\Users\\Souvik Chand\\AppData\\Local\\Temp\\pip-wheel-0l832mcc\\numpy_827e9a77376b4cb397fa3108ab018f32\\numpy\\distutils\\system_info.py:1849: UserWarning:\n",
            "                Lapack (http://www.netlib.org/lapack/) libraries not found.\n",
            "                Directories to search for the libraries can be specified in the\n",
            "                numpy/distutils/site.cfg file (section [lapack]) or by setting\n",
            "                the LAPACK environment variable.\n",
            "              return getattr(self, '_calc_info_{}'.format(name))()\n",
            "            lapack_src_info:\n",
            "              NOT AVAILABLE\n",
            "      \n",
            "            C:\\Users\\Souvik Chand\\AppData\\Local\\Temp\\pip-wheel-0l832mcc\\numpy_827e9a77376b4cb397fa3108ab018f32\\numpy\\distutils\\system_info.py:1849: UserWarning:\n",
            "                Lapack (http://www.netlib.org/lapack/) sources not found.\n",
            "                Directories to search for the sources can be specified in the\n",
            "                numpy/distutils/site.cfg file (section [lapack_src]) or by setting\n",
            "                the LAPACK_SRC environment variable.\n",
            "              return getattr(self, '_calc_info_{}'.format(name))()\n",
            "              NOT AVAILABLE\n",
            "      \n",
            "            numpy_linalg_lapack_lite:\n",
            "              FOUND:\n",
            "                language = c\n",
            "                define_macros = [('HAVE_BLAS_ILP64', None), ('BLAS_SYMBOL_SUFFIX', '64_')]\n",
            "      \n",
            "            C:\\Users\\Souvik Chand\\AppData\\Local\\Programs\\Python\\Python310\\lib\\distutils\\dist.py:274: UserWarning: Unknown distribution option: 'define_macros'\n",
            "              warnings.warn(msg)\n",
            "            running dist_info\n",
            "            running build_src\n",
            "            build_src\n",
            "            building py_modules sources\n",
            "            creating build\n",
            "            creating build\\src.win-amd64-3.10\n",
            "            creating build\\src.win-amd64-3.10\\numpy\n",
            "            creating build\\src.win-amd64-3.10\\numpy\\distutils\n",
            "            building library \"npymath\" sources\n",
            "            error: Microsoft Visual C++ 14.0 is required. Get it with \"Build Tools for Visual Studio\": https://visualstudio.microsoft.com/downloads/\n",
            "            [end of output]\n",
            "      \n",
            "        note: This error originates from a subprocess, and is likely not a problem with pip.\n",
            "      error: metadata-generation-failed\n",
            "      \n",
            "      Ã— Encountered error while generating package metadata.\n",
            "      â•°â”€> See above for output.\n",
            "      \n",
            "      note: This is an issue with the package mentioned above, not pip.\n",
            "      hint: See above for details.\n",
            "      Traceback (most recent call last):\n",
            "        File \"C:\\Users\\Souvik Chand\\AppData\\Local\\Programs\\Python\\Python310\\lib\\site-packages\\setuptools\\installer.py\", line 75, in fetch_build_egg\n",
            "          subprocess.check_call(cmd)\n",
            "        File \"C:\\Users\\Souvik Chand\\AppData\\Local\\Programs\\Python\\Python310\\lib\\subprocess.py\", line 369, in check_call\n",
            "          raise CalledProcessError(retcode, cmd)\n",
            "      subprocess.CalledProcessError: Command '['C:\\\\Users\\\\Souvik Chand\\\\AppData\\\\Local\\\\Programs\\\\Python\\\\Python310\\\\python.exe', '-m', 'pip', '--disable-pip-version-check', 'wheel', '--no-deps', '-w', 'C:\\\\Users\\\\SOUVIK~1\\\\AppData\\\\Local\\\\Temp\\\\tmplm2sw9ru', '--quiet', 'numpy==1.20.0']' returned non-zero exit status 1.\n",
            "      \n",
            "      The above exception was the direct cause of the following exception:\n",
            "      \n",
            "      Traceback (most recent call last):\n",
            "        File \"<string>\", line 2, in <module>\n",
            "        File \"<pip-setuptools-caller>\", line 34, in <module>\n",
            "        File \"C:\\Users\\Souvik Chand\\AppData\\Local\\Temp\\pip-install-lbkxq3p3\\scikit-network_66ea59913bfa4dc6b43fe24bda8c4fad\\setup.py\", line 14, in <module>\n",
            "          dist.Distribution().fetch_build_eggs(['Cython', 'numpy==1.20.0'])\n",
            "        File \"C:\\Users\\Souvik Chand\\AppData\\Local\\Programs\\Python\\Python310\\lib\\site-packages\\setuptools\\dist.py\", line 785, in fetch_build_eggs\n",
            "          resolved_dists = pkg_resources.working_set.resolve(\n",
            "        File \"C:\\Users\\Souvik Chand\\AppData\\Local\\Programs\\Python\\Python310\\lib\\site-packages\\pkg_resources\\__init__.py\", line 766, in resolve\n",
            "          dist = best[req.key] = env.best_match(\n",
            "        File \"C:\\Users\\Souvik Chand\\AppData\\Local\\Programs\\Python\\Python310\\lib\\site-packages\\pkg_resources\\__init__.py\", line 1051, in best_match\n",
            "          return self.obtain(req, installer)\n",
            "        File \"C:\\Users\\Souvik Chand\\AppData\\Local\\Programs\\Python\\Python310\\lib\\site-packages\\pkg_resources\\__init__.py\", line 1063, in obtain\n",
            "          return installer(requirement)\n",
            "        File \"C:\\Users\\Souvik Chand\\AppData\\Local\\Programs\\Python\\Python310\\lib\\site-packages\\setuptools\\dist.py\", line 844, in fetch_build_egg\n",
            "          return fetch_build_egg(self, req)\n",
            "        File \"C:\\Users\\Souvik Chand\\AppData\\Local\\Programs\\Python\\Python310\\lib\\site-packages\\setuptools\\installer.py\", line 77, in fetch_build_egg\n",
            "          raise DistutilsError(str(e)) from e\n",
            "      distutils.errors.DistutilsError: Command '['C:\\\\Users\\\\Souvik Chand\\\\AppData\\\\Local\\\\Programs\\\\Python\\\\Python310\\\\python.exe', '-m', 'pip', '--disable-pip-version-check', 'wheel', '--no-deps', '-w', 'C:\\\\Users\\\\SOUVIK~1\\\\AppData\\\\Local\\\\Temp\\\\tmplm2sw9ru', '--quiet', 'numpy==1.20.0']' returned non-zero exit status 1.\n",
            "      [end of output]\n",
            "  \n",
            "  note: This error originates from a subprocess, and is likely not a problem with pip.\n",
            "error: metadata-generation-failed\n",
            "\n",
            "× Encountered error while generating package metadata.\n",
            "╰─> See above for output.\n",
            "\n",
            "note: This is an issue with the package mentioned above, not pip.\n",
            "hint: See above for details.\n",
            "\n",
            "[notice] A new release of pip is available: 23.1.2 -> 23.3.1\n",
            "[notice] To update, run: python.exe -m pip install --upgrade pip\n"
          ]
        }
      ],
      "source": [
        "!pip install scikit-network==0.24.0"
      ]
    },
    {
      "cell_type": "code",
      "execution_count": 6,
      "metadata": {
        "colab": {
          "base_uri": "https://localhost:8080/"
        },
        "id": "TDIF-lCLqScB",
        "outputId": "3f96d903-82e9-4e98-aee0-ba7144c13c3e"
      },
      "outputs": [
        {
          "name": "stderr",
          "output_type": "stream",
          "text": [
            "'rm' is not recognized as an internal or external command,\n",
            "operable program or batch file.\n",
            "'wget' is not recognized as an internal or external command,\n",
            "operable program or batch file.\n"
          ]
        },
        {
          "name": "stderr",
          "output_type": "stream",
          "text": [
            "'wget' is not recognized as an internal or external command,\n",
            "operable program or batch file.\n",
            "'wget' is not recognized as an internal or external command,\n",
            "operable program or batch file.\n",
            "'wget' is not recognized as an internal or external command,\n",
            "operable program or batch file.\n",
            "'ls' is not recognized as an internal or external command,\n",
            "operable program or batch file.\n"
          ]
        }
      ],
      "source": [
        "!rm *.tsv.gz\n",
        "!wget -q https://datasets.imdbws.com/name.basics.tsv.gz\n",
        "!wget -q https://datasets.imdbws.com/title.principals.tsv.gz\n",
        "!wget -q https://datasets.imdbws.com/title.basics.tsv.gz\n",
        "!wget -q https://datasets.imdbws.com/title.akas.tsv.gz\n",
        "!ls -la"
      ]
    },
    {
      "cell_type": "code",
      "execution_count": 8,
      "metadata": {
        "colab": {
          "base_uri": "https://localhost:8080/"
        },
        "id": "8o954O9oqVyC",
        "outputId": "1a5b7fb6-ba11-411d-dd44-bd6b2770a0f9"
      },
      "outputs": [
        {
          "name": "stderr",
          "output_type": "stream",
          "text": [
            "C:\\Users\\Souvik Chand\\AppData\\Local\\Temp\\ipykernel_6248\\4140932607.py:2: DtypeWarning: Columns (4) have mixed types. Specify dtype option on import or set low_memory=False.\n",
            "  title = pd.read_csv('title.basics.tsv.gz', sep='\\t', low_memory=True).set_index('tconst')[['titleType','primaryTitle','startYear']]\n"
          ]
        }
      ],
      "source": [
        "# load the titles\n",
        "title = pd.read_csv('title.basics.tsv.gz', sep='\\t', low_memory=True).set_index('tconst')[['titleType','primaryTitle','startYear']]"
      ]
    },
    {
      "cell_type": "code",
      "execution_count": 9,
      "metadata": {
        "colab": {
          "base_uri": "https://localhost:8080/",
          "height": 237
        },
        "id": "5u0r0Wxpqaqr",
        "outputId": "23e58dc7-47df-49f8-da26-0b966d20c256"
      },
      "outputs": [
        {
          "data": {
            "text/html": [
              "<div>\n",
              "<style scoped>\n",
              "    .dataframe tbody tr th:only-of-type {\n",
              "        vertical-align: middle;\n",
              "    }\n",
              "\n",
              "    .dataframe tbody tr th {\n",
              "        vertical-align: top;\n",
              "    }\n",
              "\n",
              "    .dataframe thead th {\n",
              "        text-align: right;\n",
              "    }\n",
              "</style>\n",
              "<table border=\"1\" class=\"dataframe\">\n",
              "  <thead>\n",
              "    <tr style=\"text-align: right;\">\n",
              "      <th></th>\n",
              "      <th>titleType</th>\n",
              "      <th>primaryTitle</th>\n",
              "      <th>startYear</th>\n",
              "    </tr>\n",
              "    <tr>\n",
              "      <th>tconst</th>\n",
              "      <th></th>\n",
              "      <th></th>\n",
              "      <th></th>\n",
              "    </tr>\n",
              "  </thead>\n",
              "  <tbody>\n",
              "    <tr>\n",
              "      <th>tt0000001</th>\n",
              "      <td>short</td>\n",
              "      <td>Carmencita</td>\n",
              "      <td>1894</td>\n",
              "    </tr>\n",
              "    <tr>\n",
              "      <th>tt0000002</th>\n",
              "      <td>short</td>\n",
              "      <td>Le clown et ses chiens</td>\n",
              "      <td>1892</td>\n",
              "    </tr>\n",
              "    <tr>\n",
              "      <th>tt0000003</th>\n",
              "      <td>short</td>\n",
              "      <td>Pauvre Pierrot</td>\n",
              "      <td>1892</td>\n",
              "    </tr>\n",
              "    <tr>\n",
              "      <th>tt0000004</th>\n",
              "      <td>short</td>\n",
              "      <td>Un bon bock</td>\n",
              "      <td>1892</td>\n",
              "    </tr>\n",
              "    <tr>\n",
              "      <th>tt0000005</th>\n",
              "      <td>short</td>\n",
              "      <td>Blacksmith Scene</td>\n",
              "      <td>1893</td>\n",
              "    </tr>\n",
              "  </tbody>\n",
              "</table>\n",
              "</div>"
            ],
            "text/plain": [
              "          titleType            primaryTitle startYear\n",
              "tconst                                               \n",
              "tt0000001     short              Carmencita      1894\n",
              "tt0000002     short  Le clown et ses chiens      1892\n",
              "tt0000003     short          Pauvre Pierrot      1892\n",
              "tt0000004     short             Un bon bock      1892\n",
              "tt0000005     short        Blacksmith Scene      1893"
            ]
          },
          "execution_count": 9,
          "metadata": {},
          "output_type": "execute_result"
        }
      ],
      "source": [
        "title.head()"
      ]
    },
    {
      "cell_type": "code",
      "execution_count": 10,
      "metadata": {
        "colab": {
          "base_uri": "https://localhost:8080/"
        },
        "id": "Q_BIP4CnuUf8",
        "outputId": "e43977ba-facb-4394-b5d8-20b42673c7b5"
      },
      "outputs": [
        {
          "data": {
            "text/plain": [
              "titleType       object\n",
              "primaryTitle    object\n",
              "startYear       object\n",
              "dtype: object"
            ]
          },
          "execution_count": 10,
          "metadata": {},
          "output_type": "execute_result"
        }
      ],
      "source": [
        "title.dtypes"
      ]
    },
    {
      "cell_type": "code",
      "execution_count": 11,
      "metadata": {
        "id": "f8Ct8SiHvAE6"
      },
      "outputs": [],
      "source": [
        "title = title[title['startYear'] > '1990'] # filter by year"
      ]
    },
    {
      "cell_type": "code",
      "execution_count": 12,
      "metadata": {},
      "outputs": [
        {
          "data": {
            "text/plain": [
              "(7518150, 3)"
            ]
          },
          "execution_count": 12,
          "metadata": {},
          "output_type": "execute_result"
        }
      ],
      "source": [
        "title = title[title['startYear'] != '\\\\N']\n",
        "title.shape"
      ]
    },
    {
      "cell_type": "code",
      "execution_count": 13,
      "metadata": {
        "colab": {
          "base_uri": "https://localhost:8080/",
          "height": 237
        },
        "id": "6JD9tKQrvvFE",
        "outputId": "87a83fe5-4a52-481b-e5c9-067272515df3"
      },
      "outputs": [
        {
          "data": {
            "text/html": [
              "<div>\n",
              "<style scoped>\n",
              "    .dataframe tbody tr th:only-of-type {\n",
              "        vertical-align: middle;\n",
              "    }\n",
              "\n",
              "    .dataframe tbody tr th {\n",
              "        vertical-align: top;\n",
              "    }\n",
              "\n",
              "    .dataframe thead th {\n",
              "        text-align: right;\n",
              "    }\n",
              "</style>\n",
              "<table border=\"1\" class=\"dataframe\">\n",
              "  <thead>\n",
              "    <tr style=\"text-align: right;\">\n",
              "      <th></th>\n",
              "      <th>titleType</th>\n",
              "      <th>primaryTitle</th>\n",
              "      <th>startYear</th>\n",
              "    </tr>\n",
              "    <tr>\n",
              "      <th>tconst</th>\n",
              "      <th></th>\n",
              "      <th></th>\n",
              "      <th></th>\n",
              "    </tr>\n",
              "  </thead>\n",
              "  <tbody>\n",
              "    <tr>\n",
              "      <th>tt0011801</th>\n",
              "      <td>movie</td>\n",
              "      <td>Tötet nicht mehr</td>\n",
              "      <td>2019</td>\n",
              "    </tr>\n",
              "    <tr>\n",
              "      <th>tt0013274</th>\n",
              "      <td>movie</td>\n",
              "      <td>Istoriya grazhdanskoy voyny</td>\n",
              "      <td>2021</td>\n",
              "    </tr>\n",
              "    <tr>\n",
              "      <th>tt0015414</th>\n",
              "      <td>movie</td>\n",
              "      <td>La tierra de los toros</td>\n",
              "      <td>2000</td>\n",
              "    </tr>\n",
              "    <tr>\n",
              "      <th>tt0015724</th>\n",
              "      <td>movie</td>\n",
              "      <td>Dama de noche</td>\n",
              "      <td>1993</td>\n",
              "    </tr>\n",
              "    <tr>\n",
              "      <th>tt0034413</th>\n",
              "      <td>short</td>\n",
              "      <td>Youth Gets a Break</td>\n",
              "      <td>2001</td>\n",
              "    </tr>\n",
              "  </tbody>\n",
              "</table>\n",
              "</div>"
            ],
            "text/plain": [
              "          titleType                 primaryTitle startYear\n",
              "tconst                                                    \n",
              "tt0011801     movie             Tötet nicht mehr      2019\n",
              "tt0013274     movie  Istoriya grazhdanskoy voyny      2021\n",
              "tt0015414     movie       La tierra de los toros      2000\n",
              "tt0015724     movie                Dama de noche      1993\n",
              "tt0034413     short           Youth Gets a Break      2001"
            ]
          },
          "execution_count": 13,
          "metadata": {},
          "output_type": "execute_result"
        }
      ],
      "source": [
        "title.head()"
      ]
    },
    {
      "cell_type": "code",
      "execution_count": 14,
      "metadata": {
        "colab": {
          "base_uri": "https://localhost:8080/",
          "height": 206
        },
        "id": "e652R6wGqxiC",
        "outputId": "6bacaf07-0385-42f1-829a-989c32369f13"
      },
      "outputs": [
        {
          "data": {
            "text/html": [
              "<div>\n",
              "<style scoped>\n",
              "    .dataframe tbody tr th:only-of-type {\n",
              "        vertical-align: middle;\n",
              "    }\n",
              "\n",
              "    .dataframe tbody tr th {\n",
              "        vertical-align: top;\n",
              "    }\n",
              "\n",
              "    .dataframe thead th {\n",
              "        text-align: right;\n",
              "    }\n",
              "</style>\n",
              "<table border=\"1\" class=\"dataframe\">\n",
              "  <thead>\n",
              "    <tr style=\"text-align: right;\">\n",
              "      <th></th>\n",
              "      <th>tconst</th>\n",
              "      <th>nconst</th>\n",
              "      <th>category</th>\n",
              "    </tr>\n",
              "  </thead>\n",
              "  <tbody>\n",
              "    <tr>\n",
              "      <th>11</th>\n",
              "      <td>tt0000005</td>\n",
              "      <td>nm0443482</td>\n",
              "      <td>actor</td>\n",
              "    </tr>\n",
              "    <tr>\n",
              "      <th>12</th>\n",
              "      <td>tt0000005</td>\n",
              "      <td>nm0653042</td>\n",
              "      <td>actor</td>\n",
              "    </tr>\n",
              "    <tr>\n",
              "      <th>16</th>\n",
              "      <td>tt0000007</td>\n",
              "      <td>nm0179163</td>\n",
              "      <td>actor</td>\n",
              "    </tr>\n",
              "    <tr>\n",
              "      <th>17</th>\n",
              "      <td>tt0000007</td>\n",
              "      <td>nm0183947</td>\n",
              "      <td>actor</td>\n",
              "    </tr>\n",
              "    <tr>\n",
              "      <th>21</th>\n",
              "      <td>tt0000008</td>\n",
              "      <td>nm0653028</td>\n",
              "      <td>actor</td>\n",
              "    </tr>\n",
              "  </tbody>\n",
              "</table>\n",
              "</div>"
            ],
            "text/plain": [
              "       tconst     nconst category\n",
              "11  tt0000005  nm0443482    actor\n",
              "12  tt0000005  nm0653042    actor\n",
              "16  tt0000007  nm0179163    actor\n",
              "17  tt0000007  nm0183947    actor\n",
              "21  tt0000008  nm0653028    actor"
            ]
          },
          "execution_count": 14,
          "metadata": {},
          "output_type": "execute_result"
        }
      ],
      "source": [
        "# load the cast of each film\n",
        "cast  = pd.read_csv('title.principals.tsv.gz', sep = '\\t')[['tconst', 'nconst', 'category']]\n",
        "# only consider actors, not directors, composors etc.\n",
        "cast = cast[cast.category.isin({'actor','actress'})]\n",
        "cast.head()"
      ]
    },
    {
      "cell_type": "code",
      "execution_count": 15,
      "metadata": {
        "colab": {
          "base_uri": "https://localhost:8080/",
          "height": 206
        },
        "id": "yLR_bxqwqzen",
        "outputId": "7519e8ad-23d7-479e-f981-1554e30828f0"
      },
      "outputs": [
        {
          "data": {
            "text/html": [
              "<div>\n",
              "<style scoped>\n",
              "    .dataframe tbody tr th:only-of-type {\n",
              "        vertical-align: middle;\n",
              "    }\n",
              "\n",
              "    .dataframe tbody tr th {\n",
              "        vertical-align: top;\n",
              "    }\n",
              "\n",
              "    .dataframe thead th {\n",
              "        text-align: right;\n",
              "    }\n",
              "</style>\n",
              "<table border=\"1\" class=\"dataframe\">\n",
              "  <thead>\n",
              "    <tr style=\"text-align: right;\">\n",
              "      <th></th>\n",
              "      <th>tconst</th>\n",
              "      <th>nconst</th>\n",
              "      <th>category</th>\n",
              "    </tr>\n",
              "  </thead>\n",
              "  <tbody>\n",
              "    <tr>\n",
              "      <th>80784</th>\n",
              "      <td>tt0011801</td>\n",
              "      <td>nm0459029</td>\n",
              "      <td>actor</td>\n",
              "    </tr>\n",
              "    <tr>\n",
              "      <th>80785</th>\n",
              "      <td>tt0011801</td>\n",
              "      <td>nm0681726</td>\n",
              "      <td>actor</td>\n",
              "    </tr>\n",
              "    <tr>\n",
              "      <th>80786</th>\n",
              "      <td>tt0011801</td>\n",
              "      <td>nm0692612</td>\n",
              "      <td>actress</td>\n",
              "    </tr>\n",
              "    <tr>\n",
              "      <th>80787</th>\n",
              "      <td>tt0011801</td>\n",
              "      <td>nm0726256</td>\n",
              "      <td>actor</td>\n",
              "    </tr>\n",
              "    <tr>\n",
              "      <th>80788</th>\n",
              "      <td>tt0011801</td>\n",
              "      <td>nm0776458</td>\n",
              "      <td>actor</td>\n",
              "    </tr>\n",
              "  </tbody>\n",
              "</table>\n",
              "</div>"
            ],
            "text/plain": [
              "          tconst     nconst category\n",
              "80784  tt0011801  nm0459029    actor\n",
              "80785  tt0011801  nm0681726    actor\n",
              "80786  tt0011801  nm0692612  actress\n",
              "80787  tt0011801  nm0726256    actor\n",
              "80788  tt0011801  nm0776458    actor"
            ]
          },
          "execution_count": 15,
          "metadata": {},
          "output_type": "execute_result"
        }
      ],
      "source": [
        "# only consider movies, not series, etc\n",
        "movies = title[title['titleType'] == 'movie']\n",
        "cast = cast[cast['tconst'].isin(movies.index)]\n",
        "cast.head()"
      ]
    },
    {
      "cell_type": "code",
      "execution_count": null,
      "metadata": {
        "colab": {
          "base_uri": "https://localhost:8080/"
        },
        "id": "3Pvao-lGrSXj",
        "outputId": "10dfbea2-cfdd-41c6-cea0-5adbf260f550"
      },
      "outputs": [
        {
          "data": {
            "text/plain": [
              "JP    4002434\n",
              "FR    4001268\n",
              "DE    3988545\n",
              "IN    3932614\n",
              "ES    3924355\n",
              "IT    3904983\n",
              "PT    3840735\n",
              "\\N    1865253\n",
              "US    1360525\n",
              "GB     422184\n",
              "Name: region, dtype: int64"
            ]
          },
          "execution_count": 11,
          "metadata": {},
          "output_type": "execute_result"
        }
      ],
      "source": [
        "region = pd.read_csv('title.akas.tsv.gz',sep='\\t',usecols=['titleId','region'],low_memory = True,dtype={'region':'str','titleId':'str'}).set_index('titleId')['region']\n",
        "region.value_counts().head(10)"
      ]
    },
    {
      "cell_type": "code",
      "execution_count": null,
      "metadata": {
        "colab": {
          "base_uri": "https://localhost:8080/"
        },
        "id": "0oyk2-zAvzx3",
        "outputId": "d0dad2c6-437f-4da1-a6ea-478b671a46b2"
      },
      "outputs": [
        {
          "data": {
            "text/plain": [
              "titleId\n",
              "tt0000001    UA\n",
              "tt0000001    DE\n",
              "tt0000001    HU\n",
              "tt0000001    GR\n",
              "tt0000001    RU\n",
              "Name: region, dtype: object"
            ]
          },
          "execution_count": 12,
          "metadata": {},
          "output_type": "execute_result"
        }
      ],
      "source": [
        "region.head()"
      ]
    },
    {
      "cell_type": "code",
      "execution_count": null,
      "metadata": {
        "colab": {
          "base_uri": "https://localhost:8080/",
          "height": 237
        },
        "id": "4Va-DfNdrXsT",
        "outputId": "623abf67-dffd-482b-d854-561d2f47296b"
      },
      "outputs": [
        {
          "data": {
            "text/html": [
              "\n",
              "  <div id=\"df-0d434648-ade3-4f72-bbbd-f1b7251fcc90\">\n",
              "    <div class=\"colab-df-container\">\n",
              "      <div>\n",
              "<style scoped>\n",
              "    .dataframe tbody tr th:only-of-type {\n",
              "        vertical-align: middle;\n",
              "    }\n",
              "\n",
              "    .dataframe tbody tr th {\n",
              "        vertical-align: top;\n",
              "    }\n",
              "\n",
              "    .dataframe thead th {\n",
              "        text-align: right;\n",
              "    }\n",
              "</style>\n",
              "<table border=\"1\" class=\"dataframe\">\n",
              "  <thead>\n",
              "    <tr style=\"text-align: right;\">\n",
              "      <th></th>\n",
              "      <th>primaryName</th>\n",
              "      <th>birthYear</th>\n",
              "    </tr>\n",
              "    <tr>\n",
              "      <th>nconst</th>\n",
              "      <th></th>\n",
              "      <th></th>\n",
              "    </tr>\n",
              "  </thead>\n",
              "  <tbody>\n",
              "    <tr>\n",
              "      <th>nm0000001</th>\n",
              "      <td>Fred Astaire</td>\n",
              "      <td>1899.0</td>\n",
              "    </tr>\n",
              "    <tr>\n",
              "      <th>nm0000002</th>\n",
              "      <td>Lauren Bacall</td>\n",
              "      <td>1924.0</td>\n",
              "    </tr>\n",
              "    <tr>\n",
              "      <th>nm0000003</th>\n",
              "      <td>Brigitte Bardot</td>\n",
              "      <td>1934.0</td>\n",
              "    </tr>\n",
              "    <tr>\n",
              "      <th>nm0000004</th>\n",
              "      <td>John Belushi</td>\n",
              "      <td>1949.0</td>\n",
              "    </tr>\n",
              "    <tr>\n",
              "      <th>nm0000005</th>\n",
              "      <td>Ingmar Bergman</td>\n",
              "      <td>1918.0</td>\n",
              "    </tr>\n",
              "  </tbody>\n",
              "</table>\n",
              "</div>\n",
              "      <button class=\"colab-df-convert\" onclick=\"convertToInteractive('df-0d434648-ade3-4f72-bbbd-f1b7251fcc90')\"\n",
              "              title=\"Convert this dataframe to an interactive table.\"\n",
              "              style=\"display:none;\">\n",
              "        \n",
              "  <svg xmlns=\"http://www.w3.org/2000/svg\" height=\"24px\"viewBox=\"0 0 24 24\"\n",
              "       width=\"24px\">\n",
              "    <path d=\"M0 0h24v24H0V0z\" fill=\"none\"/>\n",
              "    <path d=\"M18.56 5.44l.94 2.06.94-2.06 2.06-.94-2.06-.94-.94-2.06-.94 2.06-2.06.94zm-11 1L8.5 8.5l.94-2.06 2.06-.94-2.06-.94L8.5 2.5l-.94 2.06-2.06.94zm10 10l.94 2.06.94-2.06 2.06-.94-2.06-.94-.94-2.06-.94 2.06-2.06.94z\"/><path d=\"M17.41 7.96l-1.37-1.37c-.4-.4-.92-.59-1.43-.59-.52 0-1.04.2-1.43.59L10.3 9.45l-7.72 7.72c-.78.78-.78 2.05 0 2.83L4 21.41c.39.39.9.59 1.41.59.51 0 1.02-.2 1.41-.59l7.78-7.78 2.81-2.81c.8-.78.8-2.07 0-2.86zM5.41 20L4 18.59l7.72-7.72 1.47 1.35L5.41 20z\"/>\n",
              "  </svg>\n",
              "      </button>\n",
              "      \n",
              "  <style>\n",
              "    .colab-df-container {\n",
              "      display:flex;\n",
              "      flex-wrap:wrap;\n",
              "      gap: 12px;\n",
              "    }\n",
              "\n",
              "    .colab-df-convert {\n",
              "      background-color: #E8F0FE;\n",
              "      border: none;\n",
              "      border-radius: 50%;\n",
              "      cursor: pointer;\n",
              "      display: none;\n",
              "      fill: #1967D2;\n",
              "      height: 32px;\n",
              "      padding: 0 0 0 0;\n",
              "      width: 32px;\n",
              "    }\n",
              "\n",
              "    .colab-df-convert:hover {\n",
              "      background-color: #E2EBFA;\n",
              "      box-shadow: 0px 1px 2px rgba(60, 64, 67, 0.3), 0px 1px 3px 1px rgba(60, 64, 67, 0.15);\n",
              "      fill: #174EA6;\n",
              "    }\n",
              "\n",
              "    [theme=dark] .colab-df-convert {\n",
              "      background-color: #3B4455;\n",
              "      fill: #D2E3FC;\n",
              "    }\n",
              "\n",
              "    [theme=dark] .colab-df-convert:hover {\n",
              "      background-color: #434B5C;\n",
              "      box-shadow: 0px 1px 3px 1px rgba(0, 0, 0, 0.15);\n",
              "      filter: drop-shadow(0px 1px 2px rgba(0, 0, 0, 0.3));\n",
              "      fill: #FFFFFF;\n",
              "    }\n",
              "  </style>\n",
              "\n",
              "      <script>\n",
              "        const buttonEl =\n",
              "          document.querySelector('#df-0d434648-ade3-4f72-bbbd-f1b7251fcc90 button.colab-df-convert');\n",
              "        buttonEl.style.display =\n",
              "          google.colab.kernel.accessAllowed ? 'block' : 'none';\n",
              "\n",
              "        async function convertToInteractive(key) {\n",
              "          const element = document.querySelector('#df-0d434648-ade3-4f72-bbbd-f1b7251fcc90');\n",
              "          const dataTable =\n",
              "            await google.colab.kernel.invokeFunction('convertToInteractive',\n",
              "                                                     [key], {});\n",
              "          if (!dataTable) return;\n",
              "\n",
              "          const docLinkHtml = 'Like what you see? Visit the ' +\n",
              "            '<a target=\"_blank\" href=https://colab.research.google.com/notebooks/data_table.ipynb>data table notebook</a>'\n",
              "            + ' to learn more about interactive tables.';\n",
              "          element.innerHTML = '';\n",
              "          dataTable['output_type'] = 'display_data';\n",
              "          await google.colab.output.renderOutput(dataTable, element);\n",
              "          const docLink = document.createElement('div');\n",
              "          docLink.innerHTML = docLinkHtml;\n",
              "          element.appendChild(docLink);\n",
              "        }\n",
              "      </script>\n",
              "    </div>\n",
              "  </div>\n",
              "  "
            ],
            "text/plain": [
              "               primaryName  birthYear\n",
              "nconst                               \n",
              "nm0000001     Fred Astaire     1899.0\n",
              "nm0000002    Lauren Bacall     1924.0\n",
              "nm0000003  Brigitte Bardot     1934.0\n",
              "nm0000004     John Belushi     1949.0\n",
              "nm0000005   Ingmar Bergman     1918.0"
            ]
          },
          "execution_count": 13,
          "metadata": {},
          "output_type": "execute_result"
        }
      ],
      "source": [
        "name = pd.read_csv('name.basics.tsv.gz', sep = '\\t', low_memory=True, na_values = '\\\\N', dtype={'birthYear': float}).set_index('nconst')[['primaryName', 'birthYear']]\n",
        "name.head()"
      ]
    },
    {
      "cell_type": "code",
      "execution_count": null,
      "metadata": {
        "id": "hPshnwB2sM7A"
      },
      "outputs": [],
      "source": [
        "from scipy.sparse import csr_matrix"
      ]
    },
    {
      "cell_type": "code",
      "execution_count": null,
      "metadata": {
        "id": "lQNflrmntHng"
      },
      "outputs": [],
      "source": [
        "def get_pairs(lang=None, min_acted=25, min_pairings=1):\n",
        "    '''\n",
        "    Returns an adjacency matrix and actor mapping of actor pairs where:\n",
        "    - Each actor has acted in at least min_acted films\n",
        "    - The two actors have acted together in at least min_pairings films\n",
        "    - And (optionally), belong to a region `lang` (IN, UN, etc)\n",
        "    '''\n",
        "    graph = cast\n",
        "    if lang is not None:\n",
        "        graph = graph[graph['tconst'].isin(region[region == lang].index)]\n",
        "        # graph = graph[graph['tconst'].isin(region[region == lang].index)]\n",
        "    name_freq = graph['nconst'].value_counts()\n",
        "    top_names = name_freq[name_freq >= min_acted]\n",
        "    top_actors = graph[graph['nconst'].isin(top_names.index)]\n",
        "\n",
        "    p = top_actors.copy()\n",
        "    p['title'] = p['tconst'].astype('category')\n",
        "    p['name'] = p['nconst'].astype('category')\n",
        "\n",
        "    row = p['title'].cat.codes.values\n",
        "    col = p['name'].cat.codes.values\n",
        "    data = np.ones(len(p), dtype='int')\n",
        "\n",
        "    matrix = csr_matrix((data, (row, col)))\n",
        "    square = matrix.T * matrix\n",
        "    square.setdiag(0)\n",
        "    square = square.tocoo()\n",
        "\n",
        "    pairs = pd.DataFrame({\n",
        "        'row': square.row,\n",
        "        'col': square.col,\n",
        "        'n': square.data\n",
        "    })\n",
        "    pairs = pairs[pairs.n >= min_pairings].reset_index(drop=True)\n",
        "    return pairs, name.reindex(p['name'].cat.categories)\n",
        "\n",
        "def lookup(pairs, cat):\n",
        "    pairs = pd.concat([\n",
        "        pairs,\n",
        "        cat.iloc[pairs.row].reset_index(drop=True),\n",
        "        cat.iloc[pairs.col].reset_index(drop=True),\n",
        "    ], axis=1)\n",
        "    pairs = pairs.drop(columns=['row', 'col'])\n",
        "    pairs.columns = ['count', 'name1', 'year1', 'name2', 'year2']\n",
        "    return pairs.sort_values('count', ascending=False)"
      ]
    },
    {
      "cell_type": "code",
      "execution_count": null,
      "metadata": {
        "id": "AokpHqZXoXaS"
      },
      "outputs": [],
      "source": [
        "pairs, cat = get_pairs(lang='IN', min_acted=1, min_pairings=1) # setting lang = 'IN' will apply a filter allowing only INdian movies"
      ]
    },
    {
      "cell_type": "code",
      "execution_count": null,
      "metadata": {
        "id": "Lig_l4fVolpK"
      },
      "outputs": [],
      "source": [
        "ForKumu = lookup(pairs, cat)"
      ]
    },
    {
      "cell_type": "code",
      "execution_count": null,
      "metadata": {
        "id": "YGhT6rIMo33M"
      },
      "outputs": [],
      "source": [
        "ForKumu = ForKumu[['name1', 'name2', 'count']]\n",
        "ForKumu = ForKumu.rename(columns={'name1':'From',\n",
        "                                  'name2':'To',\n",
        "                                  'count':'Strength'})\n"
      ]
    },
    {
      "cell_type": "code",
      "execution_count": null,
      "metadata": {
        "colab": {
          "base_uri": "https://localhost:8080/",
          "height": 206
        },
        "id": "gUrDLdTeo6e5",
        "outputId": "da8383f1-7300-4ec1-dea1-aa9abc7845ea"
      },
      "outputs": [
        {
          "data": {
            "text/html": [
              "\n",
              "  <div id=\"df-4b7f4512-65ef-4716-bb9a-f8b6f8f00160\">\n",
              "    <div class=\"colab-df-container\">\n",
              "      <div>\n",
              "<style scoped>\n",
              "    .dataframe tbody tr th:only-of-type {\n",
              "        vertical-align: middle;\n",
              "    }\n",
              "\n",
              "    .dataframe tbody tr th {\n",
              "        vertical-align: top;\n",
              "    }\n",
              "\n",
              "    .dataframe thead th {\n",
              "        text-align: right;\n",
              "    }\n",
              "</style>\n",
              "<table border=\"1\" class=\"dataframe\">\n",
              "  <thead>\n",
              "    <tr style=\"text-align: right;\">\n",
              "      <th></th>\n",
              "      <th>From</th>\n",
              "      <th>To</th>\n",
              "      <th>Strength</th>\n",
              "    </tr>\n",
              "  </thead>\n",
              "  <tbody>\n",
              "    <tr>\n",
              "      <th>49374</th>\n",
              "      <td>Bahadur</td>\n",
              "      <td>Adoor Bhasi</td>\n",
              "      <td>172</td>\n",
              "    </tr>\n",
              "    <tr>\n",
              "      <th>71837</th>\n",
              "      <td>Adoor Bhasi</td>\n",
              "      <td>Bahadur</td>\n",
              "      <td>172</td>\n",
              "    </tr>\n",
              "    <tr>\n",
              "      <th>161691</th>\n",
              "      <td>Adoor Bhasi</td>\n",
              "      <td>Jayabharati</td>\n",
              "      <td>125</td>\n",
              "    </tr>\n",
              "    <tr>\n",
              "      <th>49363</th>\n",
              "      <td>Jayabharati</td>\n",
              "      <td>Adoor Bhasi</td>\n",
              "      <td>125</td>\n",
              "    </tr>\n",
              "    <tr>\n",
              "      <th>49354</th>\n",
              "      <td>Prem Nazir</td>\n",
              "      <td>Adoor Bhasi</td>\n",
              "      <td>124</td>\n",
              "    </tr>\n",
              "  </tbody>\n",
              "</table>\n",
              "</div>\n",
              "      <button class=\"colab-df-convert\" onclick=\"convertToInteractive('df-4b7f4512-65ef-4716-bb9a-f8b6f8f00160')\"\n",
              "              title=\"Convert this dataframe to an interactive table.\"\n",
              "              style=\"display:none;\">\n",
              "        \n",
              "  <svg xmlns=\"http://www.w3.org/2000/svg\" height=\"24px\"viewBox=\"0 0 24 24\"\n",
              "       width=\"24px\">\n",
              "    <path d=\"M0 0h24v24H0V0z\" fill=\"none\"/>\n",
              "    <path d=\"M18.56 5.44l.94 2.06.94-2.06 2.06-.94-2.06-.94-.94-2.06-.94 2.06-2.06.94zm-11 1L8.5 8.5l.94-2.06 2.06-.94-2.06-.94L8.5 2.5l-.94 2.06-2.06.94zm10 10l.94 2.06.94-2.06 2.06-.94-2.06-.94-.94-2.06-.94 2.06-2.06.94z\"/><path d=\"M17.41 7.96l-1.37-1.37c-.4-.4-.92-.59-1.43-.59-.52 0-1.04.2-1.43.59L10.3 9.45l-7.72 7.72c-.78.78-.78 2.05 0 2.83L4 21.41c.39.39.9.59 1.41.59.51 0 1.02-.2 1.41-.59l7.78-7.78 2.81-2.81c.8-.78.8-2.07 0-2.86zM5.41 20L4 18.59l7.72-7.72 1.47 1.35L5.41 20z\"/>\n",
              "  </svg>\n",
              "      </button>\n",
              "      \n",
              "  <style>\n",
              "    .colab-df-container {\n",
              "      display:flex;\n",
              "      flex-wrap:wrap;\n",
              "      gap: 12px;\n",
              "    }\n",
              "\n",
              "    .colab-df-convert {\n",
              "      background-color: #E8F0FE;\n",
              "      border: none;\n",
              "      border-radius: 50%;\n",
              "      cursor: pointer;\n",
              "      display: none;\n",
              "      fill: #1967D2;\n",
              "      height: 32px;\n",
              "      padding: 0 0 0 0;\n",
              "      width: 32px;\n",
              "    }\n",
              "\n",
              "    .colab-df-convert:hover {\n",
              "      background-color: #E2EBFA;\n",
              "      box-shadow: 0px 1px 2px rgba(60, 64, 67, 0.3), 0px 1px 3px 1px rgba(60, 64, 67, 0.15);\n",
              "      fill: #174EA6;\n",
              "    }\n",
              "\n",
              "    [theme=dark] .colab-df-convert {\n",
              "      background-color: #3B4455;\n",
              "      fill: #D2E3FC;\n",
              "    }\n",
              "\n",
              "    [theme=dark] .colab-df-convert:hover {\n",
              "      background-color: #434B5C;\n",
              "      box-shadow: 0px 1px 3px 1px rgba(0, 0, 0, 0.15);\n",
              "      filter: drop-shadow(0px 1px 2px rgba(0, 0, 0, 0.3));\n",
              "      fill: #FFFFFF;\n",
              "    }\n",
              "  </style>\n",
              "\n",
              "      <script>\n",
              "        const buttonEl =\n",
              "          document.querySelector('#df-4b7f4512-65ef-4716-bb9a-f8b6f8f00160 button.colab-df-convert');\n",
              "        buttonEl.style.display =\n",
              "          google.colab.kernel.accessAllowed ? 'block' : 'none';\n",
              "\n",
              "        async function convertToInteractive(key) {\n",
              "          const element = document.querySelector('#df-4b7f4512-65ef-4716-bb9a-f8b6f8f00160');\n",
              "          const dataTable =\n",
              "            await google.colab.kernel.invokeFunction('convertToInteractive',\n",
              "                                                     [key], {});\n",
              "          if (!dataTable) return;\n",
              "\n",
              "          const docLinkHtml = 'Like what you see? Visit the ' +\n",
              "            '<a target=\"_blank\" href=https://colab.research.google.com/notebooks/data_table.ipynb>data table notebook</a>'\n",
              "            + ' to learn more about interactive tables.';\n",
              "          element.innerHTML = '';\n",
              "          dataTable['output_type'] = 'display_data';\n",
              "          await google.colab.output.renderOutput(dataTable, element);\n",
              "          const docLink = document.createElement('div');\n",
              "          docLink.innerHTML = docLinkHtml;\n",
              "          element.appendChild(docLink);\n",
              "        }\n",
              "      </script>\n",
              "    </div>\n",
              "  </div>\n",
              "  "
            ],
            "text/plain": [
              "               From           To  Strength\n",
              "49374       Bahadur  Adoor Bhasi       172\n",
              "71837   Adoor Bhasi      Bahadur       172\n",
              "161691  Adoor Bhasi  Jayabharati       125\n",
              "49363   Jayabharati  Adoor Bhasi       125\n",
              "49354    Prem Nazir  Adoor Bhasi       124"
            ]
          },
          "execution_count": 19,
          "metadata": {},
          "output_type": "execute_result"
        }
      ],
      "source": [
        "ForKumu.head()"
      ]
    },
    {
      "cell_type": "code",
      "execution_count": null,
      "metadata": {
        "colab": {
          "base_uri": "https://localhost:8080/"
        },
        "id": "Kv9E_C0eo8J5",
        "outputId": "35dc5a77-4c21-403a-b233-9a2c9c58c4c4"
      },
      "outputs": [
        {
          "data": {
            "text/plain": [
              "(862080, 3)"
            ]
          },
          "execution_count": 16,
          "metadata": {},
          "output_type": "execute_result"
        }
      ],
      "source": [
        "ForKumu.shape # if the kumu website crashes when you try to upload this massive dataset, try uploading a sample of this, like the first 10,000 rows."
      ]
    },
    {
      "cell_type": "code",
      "execution_count": null,
      "metadata": {
        "id": "qPCAPgV_uQjL"
      },
      "outputs": [],
      "source": [
        "ForKumu.to_excel(\"pairs_actor_network_1.xlsx\", index = False)"
      ]
    }
  ],
  "metadata": {
    "colab": {
      "provenance": []
    },
    "kernelspec": {
      "display_name": "Python 3",
      "name": "python3"
    },
    "language_info": {
      "codemirror_mode": {
        "name": "ipython",
        "version": 3
      },
      "file_extension": ".py",
      "mimetype": "text/x-python",
      "name": "python",
      "nbconvert_exporter": "python",
      "pygments_lexer": "ipython3",
      "version": "3.10.0"
    }
  },
  "nbformat": 4,
  "nbformat_minor": 0
}
